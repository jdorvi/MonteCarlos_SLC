{
 "cells": [
  {
   "cell_type": "markdown",
   "metadata": {
    "collapsed": true
   },
   "source": [
    "# Fitting Distributions to a Dataset "
   ]
  },
  {
   "cell_type": "code",
   "execution_count": 1,
   "metadata": {
    "collapsed": false
   },
   "outputs": [],
   "source": [
    "%matplotlib inline\n",
    "import matplotlib.pyplot as plt\n",
    "from matplotlib import gridspec\n",
    "import scipy\n",
    "import scipy.stats as stats\n",
    "import pandas as pd\n",
    "import numpy as np\n",
    "from ipywidgets import interact, interact_manual\n",
    "import os"
   ]
  },
  {
   "cell_type": "markdown",
   "metadata": {},
   "source": [
    "### Import Data"
   ]
  },
  {
   "cell_type": "code",
   "execution_count": 2,
   "metadata": {
    "collapsed": false,
    "scrolled": true
   },
   "outputs": [],
   "source": [
    "continuous_distributions = \"C:\\\\Users\\\\jdorvinen\\\\Documents\\\\ipynbs\\\\Hoboken\\\\continuous_distributions_.csv\"\n",
    "dists_unindexed = pd.read_csv(continuous_distributions)\n",
    "dist_list = dists_unindexed.distribution.tolist()\n",
    "dists = dists_unindexed.set_index(dists_unindexed.distribution)"
   ]
  },
  {
   "cell_type": "code",
   "execution_count": 16,
   "metadata": {
    "collapsed": false
   },
   "outputs": [],
   "source": [
    "file_name = 'montauk_combined_data.csv'\n",
    "file_path = 'C:/Users/jdorvinen/Documents/Jared/Projects/East Hampton/met_data'   #Path to your data here\n",
    "#If your data is in an excel spreadsheet save it as a delimited text file (.csv formatted)\n",
    "filename = os.path.join(file_path,file_name)\n",
    "df = pd.read_fwf(filename,usecols=['length','inter','swel','hsig','tps','a_hsig','a_tps']).dropna()           \n",
    "df = df[df.hsig>3.1]\n",
    "title = str(file_name)+\"\\n\""
   ]
  },
  {
   "cell_type": "code",
   "execution_count": 35,
   "metadata": {
    "collapsed": false
   },
   "outputs": [
    {
     "data": {
      "text/plain": [
       "228"
      ]
     },
     "execution_count": 35,
     "metadata": {},
     "output_type": "execute_result"
    }
   ],
   "source": [
    "df.inter.idxmax()"
   ]
  },
  {
   "cell_type": "code",
   "execution_count": 37,
   "metadata": {
    "collapsed": false
   },
   "outputs": [
    {
     "data": {
      "text/plain": [
       "length      15.00\n",
       "inter     5466.00\n",
       "swel        -0.05\n",
       "hsig         3.33\n",
       "tps          6.67\n",
       "a_hsig       3.17\n",
       "a_tps        6.77\n",
       "Name: 228, dtype: float64"
      ]
     },
     "execution_count": 37,
     "metadata": {},
     "output_type": "execute_result"
    }
   ],
   "source": [
    "df.ix[228]"
   ]
  },
  {
   "cell_type": "code",
   "execution_count": 4,
   "metadata": {
    "collapsed": false
   },
   "outputs": [],
   "source": [
    "def save_figure(path,name):\n",
    "    plt.savefig(path+name+\".png\",\n",
    "                dpi=200,\n",
    "                facecolor='none',\n",
    "                edgecolor='none'\n",
    "               )"
   ]
  },
  {
   "cell_type": "code",
   "execution_count": 5,
   "metadata": {
    "collapsed": true
   },
   "outputs": [],
   "source": [
    "def find_nearest(array,value):\n",
    "    idx = (np.abs(array-value)).argmin()\n",
    "    return idx"
   ]
  },
  {
   "cell_type": "code",
   "execution_count": null,
   "metadata": {
    "collapsed": false
   },
   "outputs": [],
   "source": []
  },
  {
   "cell_type": "code",
   "execution_count": 6,
   "metadata": {
    "collapsed": false
   },
   "outputs": [],
   "source": [
    "def dist_fit(name,dist_name,bins,parameter):\n",
    "    global df\n",
    "    #Initialize figure and set dimensions\n",
    "    fig = plt.figure(figsize = (18,6))\n",
    "    gs = gridspec.GridSpec(2,2)\n",
    "    ax1 = fig.add_subplot(gs[:,0])\n",
    "    ax3 = fig.add_subplot(gs[:,1])\n",
    "    ax1.set_title(title,fontsize=20)\n",
    "    \n",
    "    #Remove the plot frame lines. They are unnecessary chartjunk.\n",
    "    ax1.spines[\"top\"].set_visible(False)  \n",
    "    ax1.spines[\"right\"].set_visible(False) \n",
    "    ax3.spines[\"top\"].set_visible(False)  \n",
    "    ax3.spines[\"right\"].set_visible(False) \n",
    "    \n",
    "    # Ensure that the axis ticks only show up on the bottom and left of the plot.  \n",
    "    # Ticks on the right and top of the plot are generally unnecessary chartjunk.  \n",
    "    ax1.get_xaxis().tick_bottom()  \n",
    "    ax1.get_yaxis().tick_left()  \n",
    "    ax3.get_xaxis().tick_bottom()  \n",
    "    ax3.get_yaxis().tick_left()  \n",
    "    \n",
    "    # Make sure your axis ticks are large enough to be easily read.  \n",
    "    # You don't want your viewers squinting to read your plot.  \n",
    "    ax1.tick_params(axis=\"both\", which=\"both\", bottom=\"off\", top=\"off\",  \n",
    "                    labelbottom=\"on\", left=\"on\", right=\"off\", labelleft=\"on\",labelsize=14)\n",
    "    ax3.tick_params(axis=\"both\", which=\"both\", bottom=\"off\", top=\"off\",  \n",
    "                    labelbottom=\"on\", left=\"on\", right=\"off\", labelleft=\"on\",labelsize=14)\n",
    "\n",
    "    # Along the same vein, make sure your axis labels are large  \n",
    "    # enough to be easily read as well. Make them slightly larger  \n",
    "    # than your axis tick labels so they stand out.  \n",
    "    ax1.set_xlabel(parameter, fontsize=16)  \n",
    "    ax1.set_ylabel(\"Frequency of occurence\", fontsize=16)  \n",
    "    ax3.set_xlabel(parameter, fontsize=16) \n",
    "    ax3.set_ylabel(\"Exceedance Probability\", fontsize=16)\n",
    "    #Setting .... variables\n",
    "    size    = len(df[parameter])\n",
    "    max_val = 1.1*max(df[parameter])\n",
    "    min_val = min(df[parameter])\n",
    "    range_val = max_val-min_val\n",
    "    binsize = range_val/bins\n",
    "    x0 = np.arange(min_val,max_val,range_val*0.0001)\n",
    "    x1 = np.arange(min_val,max_val,binsize)\n",
    "    y1 = df[parameter]\n",
    "    #set x-axis limits\n",
    "    ax1.set_xlim(min_val,max_val)\n",
    "    ax3.set_xlim(min_val,max_val)\n",
    "    ax3.set_ylim(0,1.1)\n",
    "    #Plot histograms\n",
    "    EPDF = ax1.hist(y1, bins=x1, color='w')\n",
    "    ECDF = ax3.hist(y1, bins=x1, color='w', normed=1, cumulative=True)\n",
    "    #Fitting distribution\n",
    "    dist  = getattr(scipy.stats, dist_name)\n",
    "    param = dist.fit(y1)\n",
    "    pdf_fitted = dist.pdf(x0, *param[:-2], loc=param[-2], scale=param[-1])*size*binsize\n",
    "    cdf_fitted = dist.cdf(x0, *param[:-2], loc=param[-2], scale=param[-1])\n",
    "    \n",
    "    #Checking goodness of fit\n",
    "    #ks_fit = stats.kstest(pdf_fitted,dist_name) # Kolmogorov-Smirnov test: returns [KS stat (D,D+,orD-),pvalue]\n",
    "    #print(ks_fit)\n",
    "    \n",
    "    #Finding location of 0.002 and 0.01 exceedence probability events \n",
    "    FiveHundInd = find_nearest(cdf_fitted,0.998)\n",
    "    OneHundInd  = find_nearest(cdf_fitted,0.990)\n",
    "    #Plotting pdf and cdf    \n",
    "    ax1.plot(x0,pdf_fitted,linewidth=2,label=dist_name)\n",
    "    ax3.plot(x0,cdf_fitted,linewidth=2,label=dist_name)\n",
    "    #update figure spacing\n",
    "    gs.update(wspace=0.1, hspace=0.2)\n",
    "    #adding a text box\n",
    "    ax3.text(min_val+0.1*range_val,1.1,\n",
    "             dist_name.upper()+\" distribution\\n\"\n",
    "             +\"\\n\"\n",
    "             +\"0.2% - value: \" + str(\"%.2f\" %x0[FiveHundInd])+ \" meters\\n\"\n",
    "             +\"1.0% - value: \" + str(\"%.2f\" %x0[OneHundInd]) + \" meters\",\n",
    "             fontsize=14\n",
    "            )\n",
    "\n",
    "    print(dists.loc[dist_name,'description']+\"\\n\")\n",
    "    \n",
    "    param_names = (dist.shapes + ', loc, scale').split(', ') if dist.shapes else ['loc', 'scale']\n",
    "    param_str = ', '.join(['{}={:0.2f}'.format(k,v) for k,v in zip(param_names, param)])\n",
    "    dist_str = '{}({})'.format(dist_name, param_str)\n",
    "    print(dist_str)\n",
    "    plt.show()\n",
    "    print(stats.kstest(y1,dist_name,param,alternative='less'))\n",
    "    print(stats.kstest(y1,dist_name,param,alternative='greater'))\n",
    "    print(stats.kstest(y1,dist_name,param,alternative='two-sided'))\n",
    "    return name"
   ]
  },
  {
   "cell_type": "code",
   "execution_count": 17,
   "metadata": {
    "collapsed": false,
    "scrolled": false
   },
   "outputs": [
    {
     "name": "stdout",
     "output_type": "stream",
     "text": [
      "A generalized Pareto continuous random variable.\n",
      "\n",
      "genpareto(c=-0.94, loc=3.11, scale=4.03)\n"
     ]
    },
    {
     "data": {
      "image/png": "[encoded data removed]",
      "text/plain": [
       "<matplotlib.figure.Figure at 0xbcb56a0>"
      ]
     },
     "metadata": {},
     "output_type": "display_data"
    },
    {
     "name": "stdout",
     "output_type": "stream",
     "text": [
      "KstestResult(statistic=0.0044752279883455426, pvalue=0.98815411589101232)\n",
      "KstestResult(statistic=0.38169408613001987, pvalue=0.0)\n",
      "KstestResult(statistic=0.38169408613001987, pvalue=0.0)\n"
     ]
    },
    {
     "data": {
      "text/plain": [
       "'C:/Users/jdorvinen/Documents/Jared/Projects/East Hampton/met_data\\\\montauk_combined_data.csv'"
      ]
     },
     "metadata": {},
     "output_type": "display_data"
    }
   ],
   "source": [
    "interact_manual(dist_fit, name=filename, dist_name=dist_list,bins=[25,100,5],parameter=['length','inter','swel','hsig','tps','a_hsig','a_tps'])"
   ]
  },
  {
   "cell_type": "markdown",
   "metadata": {
    "collapsed": true
   },
   "source": [
    "   ###References:\n",
    "   Python <br\\>\n",
    "   http://stackoverflow.com/questions/6615489/fitting-distributions-goodness-of-fit-p-value-is-it-possible-to-do-this-with/16651524#16651524 <br\\>\n",
    "   http://stackoverflow.com/questions/6620471/fitting-empirical-distribution-to-theoretical-ones-with-scipy-python <br\\><br\\>\n",
    "   Extreme wave statistics <br\\>\n",
    "   http://drs.nio.org/drs/bitstream/handle/2264/4165/Nat_Hazards_64_223a.pdf;jsessionid=55AAEDE5A2BF3AA06C6CCB5CE3CBEBAD?sequence=1 <br\\><br\\>\n",
    "   List of available distributions can be found here <br\\>\n",
    "   http://docs.scipy.org/doc/scipy/reference/stats.html#continuous-distributions<br\\><br\\>\n",
    "   Goodness of fit tests <br\\>\n",
    "   http://statsmodels.sourceforge.net/stable/stats.html#goodness-of-fit-tests-and-measures <br\\>\n",
    "   http://docs.scipy.org/doc/scipy/reference/stats.html#statistical-functions <br\\>"
   ]
  },
  {
   "cell_type": "code",
   "execution_count": null,
   "metadata": {
    "collapsed": true
   },
   "outputs": [],
   "source": [
    "dist  = getattr(scipy.stats, 'genextreme')\n",
    "\n",
    "#param = dist.fit(y1)"
   ]
  },
  {
   "cell_type": "markdown",
   "metadata": {
    "collapsed": false
   },
   "source": [
    "Length<br>\n",
    "genexpon(a=1.38, b=0.20, c=0.03, loc=3.00, scale=19.39)<br>\n",
    "KstestResult(statistic=0.090090090087017877, pvalue=0.051121878132879051)<br>\n",
    "genpareto(c=-0.02, loc=3.00, scale=14.16)<br>\n",
    "KstestResult(statistic=0.08997375153682749, pvalue=0.051604871224521176)<br><br>\n",
    "\n",
    "Interim<br>\n",
    "foldcauchy(c=0.63, loc=25.94, scale=137.16)\n",
    "KstestResult(statistic=0.026999638083165967, pvalue=0.99705005373423183)\n",
    "\n",
    "SWEL<br>\n",
    "johnsonsb(a=-0.95, b=1.41, loc=-1.12, scale=1.90)<br> \n",
    "KstestResult(statistic=0.029574404259407161, pvalue=0.9901000531575973)<br><br>\n",
    "\n",
    "HSIG<br>\n",
    "genexpon(a=0.05, b=0.32, c=1.83, loc=3.05, scale=0.36)<br>\n",
    "KstestResult(statistic=0.041869945686266341, pvalue=0.83122014943398015)<br>\n",
    "exponnorm(K=12.76, loc=3.16, scale=0.08)<br>\n",
    "KstestResult(statistic=0.045765702677044495, pvalue=0.74112752318380581)<br><br>\n",
    "\n",
    "TPS<br>\n",
    "recipinvgauss(mu=0.24, loc=5.60, scale=0.74)<br>\n",
    "KstestResult(statistic=0.10435298093410683, pvalue=0.014720986714411577)<br>\n",
    "genextreme(c=-0.08, loc=8.58, scale=1.31)<br>\n",
    "KstestResult(statistic=0.11307745876143599, pvalue=0.0062809593607968672)<br><br>\n",
    "\n",
    "a_hsig<br>\n",
    "genexpon(a=0.22, b=2.34, c=7.13, loc=3.03, scale=1.09)<br>\n",
    "KstestResult(statistic=0.047691926585930133, pvalue=0.70607193161667459)<br>\n",
    "exponnorm(K=8.97, loc=3.11, scale=0.05)<br>\n",
    "KstestResult(statistic=0.050605085052604193, pvalue=0.62055905806032152)<br><br>\n",
    "\n",
    "a_tps<br>\n",
    "recipinvgauss(mu=0.22, loc=5.90, scale=0.61)<br>\n",
    "KstestResult(statistic=0.038004922394594909, pvalue=0.90556531830166975)<br>\n",
    "genextreme(c=-0.08, loc=8.55, scale=1.12)<br>\n",
    "KstestResult(statistic=0.045956458061729433, pvalue=0.73647282485448418)<br><br>\n",
    "    \n",
    "    \n",
    "    \n",
    "    \n",
    "    \n",
    "    \n",
    "    \n",
    "    \n",
    "    \n",
    "    \n",
    "    \n",
    "    \n",
    "    \n",
    "    \n",
    "    \n",
    "    \n",
    "    \n",
    "    \n",
    "    \n",
    "    \n",
    "    \n",
    "    \n",
    "    \n",
    "    \n",
    "    \n",
    "    \n",
    "    \n",
    "    \n",
    "    \n",
    "    \n",
    "    \n",
    "    \n",
    "    \n",
    "    \n",
    "    \n",
    "    \n",
    "    \n",
    "    \n",
    "    \n",
    "    \n",
    "    \n",
    "    \n",
    "    \n",
    "    \n",
    "    \n",
    "    \n",
    "    \n",
    "    \n",
    "    \n",
    "    \n",
    "    \n",
    "    \n",
    "    \n",
    "    \n",
    "    \n",
    "    \n",
    "    \n",
    "    \n",
    "    \n",
    "    \n",
    "    \n",
    "    \n",
    "    \n",
    "    \n",
    "    \n",
    "    \n",
    "    \n",
    "    \n",
    "    \n",
    "    \n",
    "    \n",
    "    \n",
    "    \n",
    "    \n",
    "    \n",
    "    \n",
    "    \n",
    "    \n",
    "    \n",
    "    \n",
    "    \n",
    "    \n",
    "    \n",
    "    \n",
    "    \n",
    "    \n",
    "    \n",
    "    \n",
    "    "
   ]
  },
  {
   "cell_type": "code",
   "execution_count": null,
   "metadata": {
    "collapsed": true
   },
   "outputs": [],
   "source": []
  }
 ],
 "metadata": {
  "anaconda-cloud": {},
  "kernelspec": {
   "display_name": "Python [conda root]",
   "language": "python",
   "name": "conda-root-py"
  },
  "language_info": {
   "codemirror_mode": {
    "name": "ipython",
    "version": 3
   },
   "file_extension": ".py",
   "mimetype": "text/x-python",
   "name": "python",
   "nbconvert_exporter": "python",
   "pygments_lexer": "ipython3",
   "version": "3.5.2"
  },
  "widgets": {
   "state": {
    "550c1b3a07a74456b7f51ba243ca635f": {
     "views": [
      {
       "cell_index": 11
      }
     ]
    }
   },
   "version": "1.2.0"
  }
 },
 "nbformat": 4,
 "nbformat_minor": 0
}
